{
 "cells": [
  {
   "cell_type": "code",
   "execution_count": 5,
   "metadata": {},
   "outputs": [
    {
     "name": "stdout",
     "output_type": "stream",
     "text": [
      "Last 4 quarters of inflation rates: DATE\n",
      "2024-03-31    0.010409\n",
      "2024-06-30    0.007824\n",
      "2024-09-30    0.005554\n",
      "2024-12-31    0.005828\n",
      "Freq: QE-DEC, Name: inflation, dtype: float64\n"
     ]
    }
   ],
   "source": [
    "import pandas as pd\n",
    "from pandas_datareader.data import DataReader\n",
    "\n",
    "# read data from FRED\n",
    "start = '1957-01-01'\n",
    "end = '2024-10-01'\n",
    "df = DataReader('CPILFESL', 'fred', start=start, end=end)\n",
    "df.rename(columns={'CPILFESL': 'cpi'}, inplace=True)\n",
    "\n",
    "# resample to quarterly frequency\n",
    "df = df.resample('QE').mean()\n",
    "\n",
    "# calculate inflation rates\n",
    "df['inflation'] = df['cpi'].pct_change()\n",
    "print(\"Last 4 quarters of inflation rates:\", df['inflation'].tail(4))"
   ]
  },
  {
   "cell_type": "code",
   "execution_count": null,
   "metadata": {},
   "outputs": [],
   "source": []
  }
 ],
 "metadata": {
  "kernelspec": {
   "display_name": "qps",
   "language": "python",
   "name": "python3"
  },
  "language_info": {
   "codemirror_mode": {
    "name": "ipython",
    "version": 3
   },
   "file_extension": ".py",
   "mimetype": "text/x-python",
   "name": "python",
   "nbconvert_exporter": "python",
   "pygments_lexer": "ipython3",
   "version": "3.9.20"
  }
 },
 "nbformat": 4,
 "nbformat_minor": 2
}
